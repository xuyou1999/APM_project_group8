{
 "cells": [
  {
   "cell_type": "code",
   "execution_count": 1,
   "metadata": {},
   "outputs": [],
   "source": [
    "import pm4py"
   ]
  },
  {
   "cell_type": "code",
   "execution_count": 3,
   "metadata": {},
   "outputs": [
    {
     "data": {
      "application/vnd.jupyter.widget-view+json": {
       "model_id": "6bb2ad6853d9419685c7499f1f09c0c6",
       "version_major": 2,
       "version_minor": 0
      },
      "text/plain": [
       "parsing log, completed traces ::   0%|          | 0/17549 [00:00<?, ?it/s]"
      ]
     },
     "metadata": {},
     "output_type": "display_data"
    }
   ],
   "source": [
    "event_log = pm4py.read_xes('data/end_A_event_log.xes')"
   ]
  },
  {
   "cell_type": "code",
   "execution_count": 6,
   "metadata": {},
   "outputs": [
    {
     "data": {
      "text/html": [
       "<div>\n",
       "<style scoped>\n",
       "    .dataframe tbody tr th:only-of-type {\n",
       "        vertical-align: middle;\n",
       "    }\n",
       "\n",
       "    .dataframe tbody tr th {\n",
       "        vertical-align: top;\n",
       "    }\n",
       "\n",
       "    .dataframe thead th {\n",
       "        text-align: right;\n",
       "    }\n",
       "</style>\n",
       "<table border=\"1\" class=\"dataframe\">\n",
       "  <thead>\n",
       "    <tr style=\"text-align: right;\">\n",
       "      <th></th>\n",
       "      <th>Action</th>\n",
       "      <th>EventID</th>\n",
       "      <th>EventOrigin</th>\n",
       "      <th>org:resource</th>\n",
       "      <th>concept:name</th>\n",
       "      <th>lifecycle:transition</th>\n",
       "      <th>time:timestamp</th>\n",
       "      <th>case:LoanGoal</th>\n",
       "      <th>case:concept:name</th>\n",
       "      <th>case:RequestedAmount</th>\n",
       "      <th>case:ApplicationType</th>\n",
       "    </tr>\n",
       "  </thead>\n",
       "  <tbody>\n",
       "    <tr>\n",
       "      <th>0</th>\n",
       "      <td>Created</td>\n",
       "      <td>Application_652823628</td>\n",
       "      <td>Application</td>\n",
       "      <td>User_1</td>\n",
       "      <td>A_Create Application</td>\n",
       "      <td>complete</td>\n",
       "      <td>2016-01-01 09:51:15.304000+00:00</td>\n",
       "      <td>Existing loan takeover</td>\n",
       "      <td>Application_652823628</td>\n",
       "      <td>20000.0</td>\n",
       "      <td>New credit</td>\n",
       "    </tr>\n",
       "    <tr>\n",
       "      <th>1</th>\n",
       "      <td>statechange</td>\n",
       "      <td>ApplState_1582051990</td>\n",
       "      <td>Application</td>\n",
       "      <td>User_1</td>\n",
       "      <td>A_Submitted</td>\n",
       "      <td>complete</td>\n",
       "      <td>2016-01-01 09:51:15.352000+00:00</td>\n",
       "      <td>Existing loan takeover</td>\n",
       "      <td>Application_652823628</td>\n",
       "      <td>20000.0</td>\n",
       "      <td>New credit</td>\n",
       "    </tr>\n",
       "    <tr>\n",
       "      <th>2</th>\n",
       "      <td>statechange</td>\n",
       "      <td>ApplState_642383566</td>\n",
       "      <td>Application</td>\n",
       "      <td>User_1</td>\n",
       "      <td>A_Concept</td>\n",
       "      <td>complete</td>\n",
       "      <td>2016-01-01 09:52:36.413000+00:00</td>\n",
       "      <td>Existing loan takeover</td>\n",
       "      <td>Application_652823628</td>\n",
       "      <td>20000.0</td>\n",
       "      <td>New credit</td>\n",
       "    </tr>\n",
       "    <tr>\n",
       "      <th>3</th>\n",
       "      <td>statechange</td>\n",
       "      <td>ApplState_99568828</td>\n",
       "      <td>Application</td>\n",
       "      <td>User_52</td>\n",
       "      <td>A_Accepted</td>\n",
       "      <td>complete</td>\n",
       "      <td>2016-01-02 11:23:04.299000+00:00</td>\n",
       "      <td>Existing loan takeover</td>\n",
       "      <td>Application_652823628</td>\n",
       "      <td>20000.0</td>\n",
       "      <td>New credit</td>\n",
       "    </tr>\n",
       "    <tr>\n",
       "      <th>4</th>\n",
       "      <td>statechange</td>\n",
       "      <td>ApplState_946455804</td>\n",
       "      <td>Application</td>\n",
       "      <td>User_52</td>\n",
       "      <td>A_Complete</td>\n",
       "      <td>complete</td>\n",
       "      <td>2016-01-02 11:30:28.633000+00:00</td>\n",
       "      <td>Existing loan takeover</td>\n",
       "      <td>Application_652823628</td>\n",
       "      <td>20000.0</td>\n",
       "      <td>New credit</td>\n",
       "    </tr>\n",
       "  </tbody>\n",
       "</table>\n",
       "</div>"
      ],
      "text/plain": [
       "        Action                EventID  EventOrigin org:resource  \\\n",
       "0      Created  Application_652823628  Application       User_1   \n",
       "1  statechange   ApplState_1582051990  Application       User_1   \n",
       "2  statechange    ApplState_642383566  Application       User_1   \n",
       "3  statechange     ApplState_99568828  Application      User_52   \n",
       "4  statechange    ApplState_946455804  Application      User_52   \n",
       "\n",
       "           concept:name lifecycle:transition                   time:timestamp  \\\n",
       "0  A_Create Application             complete 2016-01-01 09:51:15.304000+00:00   \n",
       "1           A_Submitted             complete 2016-01-01 09:51:15.352000+00:00   \n",
       "2             A_Concept             complete 2016-01-01 09:52:36.413000+00:00   \n",
       "3            A_Accepted             complete 2016-01-02 11:23:04.299000+00:00   \n",
       "4            A_Complete             complete 2016-01-02 11:30:28.633000+00:00   \n",
       "\n",
       "            case:LoanGoal      case:concept:name  case:RequestedAmount  \\\n",
       "0  Existing loan takeover  Application_652823628               20000.0   \n",
       "1  Existing loan takeover  Application_652823628               20000.0   \n",
       "2  Existing loan takeover  Application_652823628               20000.0   \n",
       "3  Existing loan takeover  Application_652823628               20000.0   \n",
       "4  Existing loan takeover  Application_652823628               20000.0   \n",
       "\n",
       "  case:ApplicationType  \n",
       "0           New credit  \n",
       "1           New credit  \n",
       "2           New credit  \n",
       "3           New credit  \n",
       "4           New credit  "
      ]
     },
     "execution_count": 6,
     "metadata": {},
     "output_type": "execute_result"
    }
   ],
   "source": [
    "event_log.head()"
   ]
  },
  {
   "cell_type": "code",
   "execution_count": 7,
   "metadata": {},
   "outputs": [
    {
     "data": {
      "text/plain": [
       "{'A_Pending': 11804, 'A_Cancelled': 3382, 'A_Denied': 2363}"
      ]
     },
     "execution_count": 7,
     "metadata": {},
     "output_type": "execute_result"
    }
   ],
   "source": [
    "pm4py.get_end_activities(event_log)"
   ]
  }
 ],
 "metadata": {
  "kernelspec": {
   "display_name": "base",
   "language": "python",
   "name": "python3"
  },
  "language_info": {
   "codemirror_mode": {
    "name": "ipython",
    "version": 3
   },
   "file_extension": ".py",
   "mimetype": "text/x-python",
   "name": "python",
   "nbconvert_exporter": "python",
   "pygments_lexer": "ipython3",
   "version": "3.9.18"
  }
 },
 "nbformat": 4,
 "nbformat_minor": 2
}
